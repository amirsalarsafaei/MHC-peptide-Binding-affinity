{
 "cells": [
  {
   "cell_type": "markdown",
   "source": [
    "## Imports"
   ],
   "metadata": {
    "collapsed": false
   }
  },
  {
   "cell_type": "code",
   "execution_count": 1,
   "outputs": [],
   "source": [
    "import pandas as pd\n",
    "import re"
   ],
   "metadata": {
    "collapsed": false,
    "ExecuteTime": {
     "end_time": "2023-07-28T12:33:24.261297880Z",
     "start_time": "2023-07-28T12:33:24.081924792Z"
    }
   }
  },
  {
   "cell_type": "markdown",
   "source": [
    "## Load and check data scheme"
   ],
   "metadata": {
    "collapsed": false
   }
  },
  {
   "cell_type": "code",
   "execution_count": 2,
   "outputs": [],
   "source": [
    "df = pd.read_csv('./data/binding_affinity_data.csv', index_col=0)"
   ],
   "metadata": {
    "collapsed": false,
    "ExecuteTime": {
     "end_time": "2023-07-28T12:33:27.319430378Z",
     "start_time": "2023-07-28T12:33:24.262110687Z"
    }
   }
  },
  {
   "cell_type": "code",
   "execution_count": 3,
   "outputs": [
    {
     "data": {
      "text/plain": "                                        MHC_sequence     MHC_type  \\\n0  MRVTAPRTLLLLLWGAVALTETWAGSHSMRYFHTSVSRPGRGEPRF...  HLA-B*27:05   \n1  MRVTAPRTLLLLLWGAVALTETWAGSHSMRYFHTSVSRPGRGEPRF...  HLA-B*27:05   \n2  MRVTAPRTLLLLLWGAVALTETWAGSHSMRYFHTSVSRPGRGEPRF...  HLA-B*27:05   \n3  MRVTAPRTLLLLLWGAVALTETWAGSHSMRYFHTSVSRPGRGEPRF...  HLA-B*27:05   \n4  MRVTAPRTLLLLLWGAVALTETWAGSHSMRYFHTSVSRPGRGEPRF...  HLA-B*27:05   \n\n  peptide_sequence  label  \n0        ERLKEVQKR      1  \n1    KPRKTAEVAGKTL      1  \n2        KEARRIIKK      1  \n3       EEKITEAKEL      0  \n4     SLPSSRAARVPG      0  ",
      "text/html": "<div>\n<style scoped>\n    .dataframe tbody tr th:only-of-type {\n        vertical-align: middle;\n    }\n\n    .dataframe tbody tr th {\n        vertical-align: top;\n    }\n\n    .dataframe thead th {\n        text-align: right;\n    }\n</style>\n<table border=\"1\" class=\"dataframe\">\n  <thead>\n    <tr style=\"text-align: right;\">\n      <th></th>\n      <th>MHC_sequence</th>\n      <th>MHC_type</th>\n      <th>peptide_sequence</th>\n      <th>label</th>\n    </tr>\n  </thead>\n  <tbody>\n    <tr>\n      <th>0</th>\n      <td>MRVTAPRTLLLLLWGAVALTETWAGSHSMRYFHTSVSRPGRGEPRF...</td>\n      <td>HLA-B*27:05</td>\n      <td>ERLKEVQKR</td>\n      <td>1</td>\n    </tr>\n    <tr>\n      <th>1</th>\n      <td>MRVTAPRTLLLLLWGAVALTETWAGSHSMRYFHTSVSRPGRGEPRF...</td>\n      <td>HLA-B*27:05</td>\n      <td>KPRKTAEVAGKTL</td>\n      <td>1</td>\n    </tr>\n    <tr>\n      <th>2</th>\n      <td>MRVTAPRTLLLLLWGAVALTETWAGSHSMRYFHTSVSRPGRGEPRF...</td>\n      <td>HLA-B*27:05</td>\n      <td>KEARRIIKK</td>\n      <td>1</td>\n    </tr>\n    <tr>\n      <th>3</th>\n      <td>MRVTAPRTLLLLLWGAVALTETWAGSHSMRYFHTSVSRPGRGEPRF...</td>\n      <td>HLA-B*27:05</td>\n      <td>EEKITEAKEL</td>\n      <td>0</td>\n    </tr>\n    <tr>\n      <th>4</th>\n      <td>MRVTAPRTLLLLLWGAVALTETWAGSHSMRYFHTSVSRPGRGEPRF...</td>\n      <td>HLA-B*27:05</td>\n      <td>SLPSSRAARVPG</td>\n      <td>0</td>\n    </tr>\n  </tbody>\n</table>\n</div>"
     },
     "execution_count": 3,
     "metadata": {},
     "output_type": "execute_result"
    }
   ],
   "source": [
    "df.head()"
   ],
   "metadata": {
    "collapsed": false,
    "ExecuteTime": {
     "end_time": "2023-07-28T12:33:27.325361477Z",
     "start_time": "2023-07-28T12:33:27.319141714Z"
    }
   }
  },
  {
   "cell_type": "code",
   "execution_count": 4,
   "outputs": [
    {
     "data": {
      "text/plain": "HLA-B*27:05    182731\nHLA-A*02:01    119689\nHLA-B*15:01     68836\nHLA-B*07:02     64781\nHLA-B*57:01     59723\n                ...  \nHLA-A*32:07       350\nHLA-A*26:03       330\nHLA-A*68:23       320\nHLA-A*32:15       290\nHLA-B*44:27       270\nName: MHC_type, Length: 112, dtype: int64"
     },
     "execution_count": 4,
     "metadata": {},
     "output_type": "execute_result"
    }
   ],
   "source": [
    "df['MHC_type'].value_counts()"
   ],
   "metadata": {
    "collapsed": false,
    "ExecuteTime": {
     "end_time": "2023-07-28T12:33:27.410185999Z",
     "start_time": "2023-07-28T12:33:27.370137451Z"
    }
   }
  },
  {
   "cell_type": "code",
   "execution_count": 5,
   "outputs": [
    {
     "data": {
      "text/plain": "0    1433899\n1     359166\nName: label, dtype: int64"
     },
     "execution_count": 5,
     "metadata": {},
     "output_type": "execute_result"
    }
   ],
   "source": [
    "df['label'].value_counts()"
   ],
   "metadata": {
    "collapsed": false,
    "ExecuteTime": {
     "end_time": "2023-07-28T12:33:27.410391873Z",
     "start_time": "2023-07-28T12:33:27.379814432Z"
    }
   }
  },
  {
   "cell_type": "code",
   "execution_count": 6,
   "outputs": [],
   "source": [
    "HLA_pattern = re.compile(r\"^HLA-(?P<gene>.)\\*(?P<allele>(?P<allele_group>\\d\\d):(?P<allele_id>\\d\\d))$\")"
   ],
   "metadata": {
    "collapsed": false,
    "ExecuteTime": {
     "end_time": "2023-07-28T12:33:27.454522096Z",
     "start_time": "2023-07-28T12:33:27.382132107Z"
    }
   }
  },
  {
   "cell_type": "code",
   "execution_count": 7,
   "outputs": [],
   "source": [
    "def extract_hla_info(mhc_type):\n",
    "    match = HLA_pattern.search(mhc_type)\n",
    "    if not match:\n",
    "        raise Exception(\"hla pattern didn't match\")\n",
    "\n",
    "    return pd.Series({\n",
    "        'HLA_gene': match.group('gene'),\n",
    "        \"HLA_allele\": match.group(\"allele\"),\n",
    "        'HLA_allele_group': match.group(\"allele_group\"),\n",
    "        \"HLA_allele_id\": match.group(\"allele_id\")\n",
    "    })\n",
    "\n",
    "df[['HLA_gene', 'HLA_allele', 'HLA_allele_group', 'HLA_allele_id']] = df['MHC_type'].apply(extract_hla_info)"
   ],
   "metadata": {
    "collapsed": false,
    "ExecuteTime": {
     "end_time": "2023-07-28T12:36:57.002255713Z",
     "start_time": "2023-07-28T12:33:27.425966880Z"
    }
   }
  },
  {
   "cell_type": "code",
   "execution_count": 8,
   "outputs": [
    {
     "data": {
      "text/plain": "                                              MHC_sequence     MHC_type  \\\n0        MRVTAPRTLLLLLWGAVALTETWAGSHSMRYFHTSVSRPGRGEPRF...  HLA-B*27:05   \n1        MRVTAPRTLLLLLWGAVALTETWAGSHSMRYFHTSVSRPGRGEPRF...  HLA-B*27:05   \n2        MRVTAPRTLLLLLWGAVALTETWAGSHSMRYFHTSVSRPGRGEPRF...  HLA-B*27:05   \n3        MRVTAPRTLLLLLWGAVALTETWAGSHSMRYFHTSVSRPGRGEPRF...  HLA-B*27:05   \n4        MRVTAPRTLLLLLWGAVALTETWAGSHSMRYFHTSVSRPGRGEPRF...  HLA-B*27:05   \n...                                                    ...          ...   \n1793060  MAVMAPRTLLLLLLGALALTQTWAGSHSMRYFFTSVSRPGRGEPRF...  HLA-A*32:15   \n1793061  MRVTAPRTVLLLLSGALALTETWAGSHSMRYFYTAMSRPGRGEPRF...  HLA-B*15:09   \n1793062  MRVTAPRTVLLLLSGALALTETWAGSHSMRYFYTAMSRPGRGEPRF...  HLA-B*15:09   \n1793063  MAVMAPRTLVLLLSGALALTQTWAGSHSMRYFYTSVSRPGRGEPRF...  HLA-A*66:01   \n1793064  MAVMAPRTLVLLLSGALALTQTWAGSHSMRYFYTSVSRPGRGEPRF...  HLA-A*66:01   \n\n        peptide_sequence  label HLA_gene HLA_allele HLA_allele_group  \\\n0              ERLKEVQKR      1        B      27:05               27   \n1          KPRKTAEVAGKTL      1        B      27:05               27   \n2              KEARRIIKK      1        B      27:05               27   \n3             EEKITEAKEL      0        B      27:05               27   \n4           SLPSSRAARVPG      0        B      27:05               27   \n...                  ...    ...      ...        ...              ...   \n1793060        TLSKSTAII      0        A      32:15               32   \n1793061        KAFLPAMTK      0        B      15:09               15   \n1793062        VRIPRNSPL      0        B      15:09               15   \n1793063        GEHANDYAE      0        A      66:01               66   \n1793064        IPKAPRANS      0        A      66:01               66   \n\n        HLA_allele_id  \n0                  05  \n1                  05  \n2                  05  \n3                  05  \n4                  05  \n...               ...  \n1793060            15  \n1793061            09  \n1793062            09  \n1793063            01  \n1793064            01  \n\n[1793065 rows x 8 columns]",
      "text/html": "<div>\n<style scoped>\n    .dataframe tbody tr th:only-of-type {\n        vertical-align: middle;\n    }\n\n    .dataframe tbody tr th {\n        vertical-align: top;\n    }\n\n    .dataframe thead th {\n        text-align: right;\n    }\n</style>\n<table border=\"1\" class=\"dataframe\">\n  <thead>\n    <tr style=\"text-align: right;\">\n      <th></th>\n      <th>MHC_sequence</th>\n      <th>MHC_type</th>\n      <th>peptide_sequence</th>\n      <th>label</th>\n      <th>HLA_gene</th>\n      <th>HLA_allele</th>\n      <th>HLA_allele_group</th>\n      <th>HLA_allele_id</th>\n    </tr>\n  </thead>\n  <tbody>\n    <tr>\n      <th>0</th>\n      <td>MRVTAPRTLLLLLWGAVALTETWAGSHSMRYFHTSVSRPGRGEPRF...</td>\n      <td>HLA-B*27:05</td>\n      <td>ERLKEVQKR</td>\n      <td>1</td>\n      <td>B</td>\n      <td>27:05</td>\n      <td>27</td>\n      <td>05</td>\n    </tr>\n    <tr>\n      <th>1</th>\n      <td>MRVTAPRTLLLLLWGAVALTETWAGSHSMRYFHTSVSRPGRGEPRF...</td>\n      <td>HLA-B*27:05</td>\n      <td>KPRKTAEVAGKTL</td>\n      <td>1</td>\n      <td>B</td>\n      <td>27:05</td>\n      <td>27</td>\n      <td>05</td>\n    </tr>\n    <tr>\n      <th>2</th>\n      <td>MRVTAPRTLLLLLWGAVALTETWAGSHSMRYFHTSVSRPGRGEPRF...</td>\n      <td>HLA-B*27:05</td>\n      <td>KEARRIIKK</td>\n      <td>1</td>\n      <td>B</td>\n      <td>27:05</td>\n      <td>27</td>\n      <td>05</td>\n    </tr>\n    <tr>\n      <th>3</th>\n      <td>MRVTAPRTLLLLLWGAVALTETWAGSHSMRYFHTSVSRPGRGEPRF...</td>\n      <td>HLA-B*27:05</td>\n      <td>EEKITEAKEL</td>\n      <td>0</td>\n      <td>B</td>\n      <td>27:05</td>\n      <td>27</td>\n      <td>05</td>\n    </tr>\n    <tr>\n      <th>4</th>\n      <td>MRVTAPRTLLLLLWGAVALTETWAGSHSMRYFHTSVSRPGRGEPRF...</td>\n      <td>HLA-B*27:05</td>\n      <td>SLPSSRAARVPG</td>\n      <td>0</td>\n      <td>B</td>\n      <td>27:05</td>\n      <td>27</td>\n      <td>05</td>\n    </tr>\n    <tr>\n      <th>...</th>\n      <td>...</td>\n      <td>...</td>\n      <td>...</td>\n      <td>...</td>\n      <td>...</td>\n      <td>...</td>\n      <td>...</td>\n      <td>...</td>\n    </tr>\n    <tr>\n      <th>1793060</th>\n      <td>MAVMAPRTLLLLLLGALALTQTWAGSHSMRYFFTSVSRPGRGEPRF...</td>\n      <td>HLA-A*32:15</td>\n      <td>TLSKSTAII</td>\n      <td>0</td>\n      <td>A</td>\n      <td>32:15</td>\n      <td>32</td>\n      <td>15</td>\n    </tr>\n    <tr>\n      <th>1793061</th>\n      <td>MRVTAPRTVLLLLSGALALTETWAGSHSMRYFYTAMSRPGRGEPRF...</td>\n      <td>HLA-B*15:09</td>\n      <td>KAFLPAMTK</td>\n      <td>0</td>\n      <td>B</td>\n      <td>15:09</td>\n      <td>15</td>\n      <td>09</td>\n    </tr>\n    <tr>\n      <th>1793062</th>\n      <td>MRVTAPRTVLLLLSGALALTETWAGSHSMRYFYTAMSRPGRGEPRF...</td>\n      <td>HLA-B*15:09</td>\n      <td>VRIPRNSPL</td>\n      <td>0</td>\n      <td>B</td>\n      <td>15:09</td>\n      <td>15</td>\n      <td>09</td>\n    </tr>\n    <tr>\n      <th>1793063</th>\n      <td>MAVMAPRTLVLLLSGALALTQTWAGSHSMRYFYTSVSRPGRGEPRF...</td>\n      <td>HLA-A*66:01</td>\n      <td>GEHANDYAE</td>\n      <td>0</td>\n      <td>A</td>\n      <td>66:01</td>\n      <td>66</td>\n      <td>01</td>\n    </tr>\n    <tr>\n      <th>1793064</th>\n      <td>MAVMAPRTLVLLLSGALALTQTWAGSHSMRYFYTSVSRPGRGEPRF...</td>\n      <td>HLA-A*66:01</td>\n      <td>IPKAPRANS</td>\n      <td>0</td>\n      <td>A</td>\n      <td>66:01</td>\n      <td>66</td>\n      <td>01</td>\n    </tr>\n  </tbody>\n</table>\n<p>1793065 rows × 8 columns</p>\n</div>"
     },
     "execution_count": 8,
     "metadata": {},
     "output_type": "execute_result"
    }
   ],
   "source": [
    "df"
   ],
   "metadata": {
    "collapsed": false,
    "ExecuteTime": {
     "end_time": "2023-07-28T12:36:57.002686931Z",
     "start_time": "2023-07-28T12:36:57.002069041Z"
    }
   }
  },
  {
   "cell_type": "code",
   "execution_count": 15,
   "outputs": [
    {
     "data": {
      "text/plain": "27    267644\n02    234794\n07    109796\n03     94490\n15     91269\n57     80450\n44     65823\n35     64460\n68     60380\n40     59538\n08     54100\n01     51956\n11     45289\n24     43949\n04     42618\n29     29410\n39     28588\n06     27200\n51     27131\n14     26845\n31     22969\n58     22104\n05     22006\n49     19819\n37     18035\n32     17608\n16     17306\n38     15583\n23     15027\n13     12742\n45     12734\n18     12281\n30     11154\n26     10335\n46      8206\n12      8080\n50      7133\n54      5854\n33      5395\n69      4781\n53      3275\n56      2870\n41      2475\n17      2154\n52      2055\n73      2040\n83      1284\n80       710\n25       480\n48       470\n66       370\nName: HLA_allele_group, dtype: int64"
     },
     "execution_count": 15,
     "metadata": {},
     "output_type": "execute_result"
    }
   ],
   "source": [
    "df['HLA_allele_group'].value_counts()"
   ],
   "metadata": {
    "collapsed": false,
    "ExecuteTime": {
     "end_time": "2023-07-28T12:51:14.880453692Z",
     "start_time": "2023-07-28T12:51:14.876854336Z"
    }
   }
  },
  {
   "cell_type": "code",
   "execution_count": 16,
   "outputs": [
    {
     "data": {
      "text/plain": "27    267644\n02    234794\n07    109796\n03     94490\n15     91269\n57     80450\n44     65823\n35     64460\n68     60380\n40     59538\n08     54100\n01     51956\n11     45289\n24     43949\n04     42618\n29     29410\n39     28588\n06     27200\n51     27131\n14     26845\n31     22969\n58     22104\n05     22006\n49     19819\n37     18035\n32     17608\n16     17306\n38     15583\n23     15027\n13     12742\n45     12734\n18     12281\n30     11154\n26     10335\n46      8206\n12      8080\n50      7133\n54      5854\n33      5395\n69      4781\n53      3275\n56      2870\n41      2475\n17      2154\n52      2055\n73      2040\n83      1284\n80       710\n25       480\n48       470\n66       370\nName: HLA_allele_group, dtype: int64"
     },
     "execution_count": 16,
     "metadata": {},
     "output_type": "execute_result"
    }
   ],
   "source": [
    "df['HLA_allele_group'].value_counts()"
   ],
   "metadata": {
    "collapsed": false,
    "ExecuteTime": {
     "end_time": "2023-07-28T12:51:21.061818659Z",
     "start_time": "2023-07-28T12:51:20.967589026Z"
    }
   }
  },
  {
   "cell_type": "code",
   "execution_count": 18,
   "outputs": [],
   "source": [
    "groups = df['HLA_allele_group'].unique().tolist()"
   ],
   "metadata": {
    "collapsed": false,
    "ExecuteTime": {
     "end_time": "2023-07-28T12:51:47.979941175Z",
     "start_time": "2023-07-28T12:51:47.935613758Z"
    }
   }
  },
  {
   "cell_type": "code",
   "execution_count": 20,
   "outputs": [],
   "source": [
    "df['HLA_group_idx'] = df['HLA_allele_group'].apply(lambda x: groups.index(x))"
   ],
   "metadata": {
    "collapsed": false,
    "ExecuteTime": {
     "end_time": "2023-07-28T12:52:47.628418928Z",
     "start_time": "2023-07-28T12:52:44.918561119Z"
    }
   }
  },
  {
   "cell_type": "code",
   "execution_count": 23,
   "outputs": [
    {
     "data": {
      "text/plain": "                                        MHC_sequence     MHC_type  \\\n0  MRVTAPRTLLLLLWGAVALTETWAGSHSMRYFHTSVSRPGRGEPRF...  HLA-B*27:05   \n1  MRVTAPRTLLLLLWGAVALTETWAGSHSMRYFHTSVSRPGRGEPRF...  HLA-B*27:05   \n2  MRVTAPRTLLLLLWGAVALTETWAGSHSMRYFHTSVSRPGRGEPRF...  HLA-B*27:05   \n3  MRVTAPRTLLLLLWGAVALTETWAGSHSMRYFHTSVSRPGRGEPRF...  HLA-B*27:05   \n4  MRVTAPRTLLLLLWGAVALTETWAGSHSMRYFHTSVSRPGRGEPRF...  HLA-B*27:05   \n\n  peptide_sequence  label HLA_gene HLA_allele HLA_allele_group HLA_allele_id  \\\n0        ERLKEVQKR      1        B      27:05               27            05   \n1    KPRKTAEVAGKTL      1        B      27:05               27            05   \n2        KEARRIIKK      1        B      27:05               27            05   \n3       EEKITEAKEL      0        B      27:05               27            05   \n4     SLPSSRAARVPG      0        B      27:05               27            05   \n\n   HLA_group_idx  \n0              0  \n1              0  \n2              0  \n3              0  \n4              0  ",
      "text/html": "<div>\n<style scoped>\n    .dataframe tbody tr th:only-of-type {\n        vertical-align: middle;\n    }\n\n    .dataframe tbody tr th {\n        vertical-align: top;\n    }\n\n    .dataframe thead th {\n        text-align: right;\n    }\n</style>\n<table border=\"1\" class=\"dataframe\">\n  <thead>\n    <tr style=\"text-align: right;\">\n      <th></th>\n      <th>MHC_sequence</th>\n      <th>MHC_type</th>\n      <th>peptide_sequence</th>\n      <th>label</th>\n      <th>HLA_gene</th>\n      <th>HLA_allele</th>\n      <th>HLA_allele_group</th>\n      <th>HLA_allele_id</th>\n      <th>HLA_group_idx</th>\n    </tr>\n  </thead>\n  <tbody>\n    <tr>\n      <th>0</th>\n      <td>MRVTAPRTLLLLLWGAVALTETWAGSHSMRYFHTSVSRPGRGEPRF...</td>\n      <td>HLA-B*27:05</td>\n      <td>ERLKEVQKR</td>\n      <td>1</td>\n      <td>B</td>\n      <td>27:05</td>\n      <td>27</td>\n      <td>05</td>\n      <td>0</td>\n    </tr>\n    <tr>\n      <th>1</th>\n      <td>MRVTAPRTLLLLLWGAVALTETWAGSHSMRYFHTSVSRPGRGEPRF...</td>\n      <td>HLA-B*27:05</td>\n      <td>KPRKTAEVAGKTL</td>\n      <td>1</td>\n      <td>B</td>\n      <td>27:05</td>\n      <td>27</td>\n      <td>05</td>\n      <td>0</td>\n    </tr>\n    <tr>\n      <th>2</th>\n      <td>MRVTAPRTLLLLLWGAVALTETWAGSHSMRYFHTSVSRPGRGEPRF...</td>\n      <td>HLA-B*27:05</td>\n      <td>KEARRIIKK</td>\n      <td>1</td>\n      <td>B</td>\n      <td>27:05</td>\n      <td>27</td>\n      <td>05</td>\n      <td>0</td>\n    </tr>\n    <tr>\n      <th>3</th>\n      <td>MRVTAPRTLLLLLWGAVALTETWAGSHSMRYFHTSVSRPGRGEPRF...</td>\n      <td>HLA-B*27:05</td>\n      <td>EEKITEAKEL</td>\n      <td>0</td>\n      <td>B</td>\n      <td>27:05</td>\n      <td>27</td>\n      <td>05</td>\n      <td>0</td>\n    </tr>\n    <tr>\n      <th>4</th>\n      <td>MRVTAPRTLLLLLWGAVALTETWAGSHSMRYFHTSVSRPGRGEPRF...</td>\n      <td>HLA-B*27:05</td>\n      <td>SLPSSRAARVPG</td>\n      <td>0</td>\n      <td>B</td>\n      <td>27:05</td>\n      <td>27</td>\n      <td>05</td>\n      <td>0</td>\n    </tr>\n  </tbody>\n</table>\n</div>"
     },
     "execution_count": 23,
     "metadata": {},
     "output_type": "execute_result"
    }
   ],
   "source": [
    "df.head()"
   ],
   "metadata": {
    "collapsed": false,
    "ExecuteTime": {
     "end_time": "2023-07-28T12:53:20.170901188Z",
     "start_time": "2023-07-28T12:53:20.164366293Z"
    }
   }
  },
  {
   "cell_type": "code",
   "execution_count": 24,
   "outputs": [],
   "source": [
    "df.to_csv(\"./data/binding_affinity_hla_cleaned.csv\")"
   ],
   "metadata": {
    "collapsed": false,
    "ExecuteTime": {
     "end_time": "2023-07-28T12:53:45.513845676Z",
     "start_time": "2023-07-28T12:53:36.957663601Z"
    }
   }
  },
  {
   "cell_type": "code",
   "execution_count": null,
   "outputs": [],
   "source": [],
   "metadata": {
    "collapsed": false
   }
  }
 ],
 "metadata": {
  "kernelspec": {
   "display_name": "Python 3",
   "language": "python",
   "name": "python3"
  },
  "language_info": {
   "codemirror_mode": {
    "name": "ipython",
    "version": 2
   },
   "file_extension": ".py",
   "mimetype": "text/x-python",
   "name": "python",
   "nbconvert_exporter": "python",
   "pygments_lexer": "ipython2",
   "version": "2.7.6"
  }
 },
 "nbformat": 4,
 "nbformat_minor": 0
}
